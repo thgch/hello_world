{
 "cells": [
  {
   "cell_type": "code",
   "execution_count": 1,
   "id": "72ff2a45-bf25-4226-aa06-5beba296c176",
   "metadata": {},
   "outputs": [],
   "source": [
    "import os\n",
    "import sys\n",
    "sys.path.append(r'C:\\Users\\(path)\\Documents\\Python Scripts\\py')\n",
    "\n",
    "import pandas as pd\n",
    "import numpy as np\n",
    "\n",
    "from prefec_const import PREFECTURE_ENG"
   ]
  },
  {
   "cell_type": "code",
   "execution_count": 2,
   "id": "bff3da28-3927-4073-80b8-b5a7ad5d3f82",
   "metadata": {},
   "outputs": [],
   "source": [
    "remove_table = str.maketrans({\n",
    "  '\\u3000': '',\n",
    "  ' ': '',\n",
    "  '\\t': ''\n",
    "})"
   ]
  },
  {
   "cell_type": "code",
   "execution_count": 4,
   "id": "e372a7d0-d2da-4cc2-b3c8-2cc92dffbdba",
   "metadata": {},
   "outputs": [],
   "source": [
    "def create_corres_table_for(prefecture: str) -> pd.DataFrame:\n",
    "    url = f'https://www.soumu.go.jp/gapei/hensen_{prefecture}.html'\n",
    "    df = pd.read_html(url)[0]\n",
    "    old_name = df.iloc[:, 0].str.cat(df.iloc[:, 1], sep='').replace({'　': ''}).str.translate(remove_table)\n",
    "    new_name = df.iloc[:, 4].str.cat(df.iloc[:, 5], sep='').replace({'　': ''}).str.translate(remove_table)\n",
    "    sel = (old_name != new_name)\n",
    "    df_new = pd.DataFrame({'old_name': old_name[sel], 'new_name': new_name[sel]}).reset_index(drop=True)\n",
    "    return df_new"
   ]
  },
  {
   "cell_type": "code",
   "execution_count": 5,
   "id": "ad886193-af63-4f72-86cc-8647fc668254",
   "metadata": {},
   "outputs": [],
   "source": [
    "def create_corres_table():\n",
    "    res = pd.DataFrame([], columns=['old_name', 'new_name'])\n",
    "    for p in PREFECTURE_ENG:\n",
    "        print(f'Reading {p}...')\n",
    "        df = create_corres_table_for(p)\n",
    "        res = pd.concat([res, df])\n",
    "    return res"
   ]
  },
  {
   "cell_type": "code",
   "execution_count": 6,
   "id": "aaeb4c6b-c1db-46e3-b69d-051f4b87324e",
   "metadata": {
    "scrolled": true,
    "tags": []
   },
   "outputs": [
    {
     "name": "stdout",
     "output_type": "stream",
     "text": [
      "Reading hokkaido...\n",
      "Reading aomori...\n",
      "Reading iwate...\n",
      "Reading miyagi...\n",
      "Reading akita...\n",
      "Reading yamagata...\n",
      "Reading hukushima...\n",
      "Reading ibaraki...\n",
      "Reading tochigi...\n",
      "Reading gunma...\n",
      "Reading saitama...\n",
      "Reading chiba...\n",
      "Reading tokyo...\n",
      "Reading kanagawa...\n",
      "Reading nigata...\n",
      "Reading toyama...\n",
      "Reading ishikawa...\n",
      "Reading hukui...\n",
      "Reading yamanashi...\n",
      "Reading nagano...\n",
      "Reading gihu...\n",
      "Reading shizuoka...\n",
      "Reading aichi...\n",
      "Reading mie...\n",
      "Reading shiga...\n",
      "Reading kyoto...\n",
      "Reading osaka...\n",
      "Reading hyogo...\n",
      "Reading nara...\n",
      "Reading wakayama...\n",
      "Reading tottori...\n",
      "Reading shimane...\n",
      "Reading okayama...\n",
      "Reading hiroshima...\n",
      "Reading yamaguchi...\n",
      "Reading tokushima...\n",
      "Reading kagawa...\n",
      "Reading ehime...\n",
      "Reading kochi...\n",
      "Reading hukuoka...\n",
      "Reading saga...\n",
      "Reading nagasaki...\n",
      "Reading kumamoto...\n",
      "Reading oita...\n",
      "Reading miyazaki...\n",
      "Reading kagoshima...\n",
      "Reading okinawa...\n"
     ]
    }
   ],
   "source": [
    "df = create_corres_table()"
   ]
  },
  {
   "cell_type": "code",
   "execution_count": 11,
   "id": "fab215e5-7206-4c12-9d6e-1198f0875d25",
   "metadata": {},
   "outputs": [],
   "source": [
    "df.to_csv('change_list.csv', index=False)"
   ]
  },
  {
   "cell_type": "code",
   "execution_count": null,
   "id": "22232820-2e2d-4109-8307-9d642e702cc1",
   "metadata": {},
   "outputs": [],
   "source": []
  },
  {
   "cell_type": "code",
   "execution_count": null,
   "id": "5aea5591-5344-47ce-af69-5aa840c27deb",
   "metadata": {},
   "outputs": [],
   "source": []
  },
  {
   "cell_type": "code",
   "execution_count": null,
   "id": "d800953b-94bb-454d-b0e6-a957299aae87",
   "metadata": {},
   "outputs": [],
   "source": []
  },
  {
   "cell_type": "code",
   "execution_count": null,
   "id": "f00b4962-c8e3-4eb7-83e6-b122231a5058",
   "metadata": {},
   "outputs": [],
   "source": []
  },
  {
   "cell_type": "code",
   "execution_count": null,
   "id": "b62e3c76-37eb-48ee-83dd-356366d5ff36",
   "metadata": {},
   "outputs": [],
   "source": []
  }
 ],
 "metadata": {
  "kernelspec": {
   "display_name": "'climate'",
   "language": "python",
   "name": "climate"
  },
  "language_info": {
   "codemirror_mode": {
    "name": "ipython",
    "version": 3
   },
   "file_extension": ".py",
   "mimetype": "text/x-python",
   "name": "python",
   "nbconvert_exporter": "python",
   "pygments_lexer": "ipython3",
   "version": "3.8.8"
  }
 },
 "nbformat": 4,
 "nbformat_minor": 5
}
